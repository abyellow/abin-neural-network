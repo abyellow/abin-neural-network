{
 "cells": [
  {
   "cell_type": "markdown",
   "metadata": {},
   "source": [
    "# Neural_network_two_layer"
   ]
  },
  {
   "cell_type": "code",
   "execution_count": 1,
   "metadata": {
    "collapsed": true
   },
   "outputs": [],
   "source": [
    "import numpy as np\n",
    "import matplotlib.pyplot as plt\n",
    "from sklearn.datasets import fetch_mldata\n",
    "import heapq\n",
    "%matplotlib inline"
   ]
  },
  {
   "cell_type": "code",
   "execution_count": 2,
   "metadata": {
    "collapsed": false
   },
   "outputs": [],
   "source": [
    "#Load MNIST data\n",
    "mnist = fetch_mldata('MNIST original')#, data_home = custom_data_home)\n",
    "X, y = mnist.data.astype(float) , mnist.target.astype(int)\n"
   ]
  },
  {
   "cell_type": "code",
   "execution_count": 3,
   "metadata": {
    "collapsed": false
   },
   "outputs": [
    {
     "data": {
      "image/png": "[encoded data removed]",
      "text/plain": [
       "<matplotlib.figure.Figure at 0x7f538ac44910>"
      ]
     },
     "metadata": {},
     "output_type": "display_data"
    },
    {
     "name": "stdout",
     "output_type": "stream",
     "text": [
      "0\n"
     ]
    }
   ],
   "source": [
    "#Show a number\n",
    "fig_n = 300\n",
    "plt.imshow(X[fig_n,:].reshape(28,28), cmap=\"Greys_r\")\n",
    "plt.show()\n",
    "print y[fig_n]\n",
    "\n",
    "\n",
    "#print mnist.data.shape[0], np.shape(X_train)\n",
    "#print mnist.target.shape\n",
    "#print np.unique(mnist.target)\n",
    "#print mnist.data.shape[1]"
   ]
  },
  {
   "cell_type": "markdown",
   "metadata": {},
   "source": [
    "1.Preprocessing"
   ]
  },
  {
   "cell_type": "code",
   "execution_count": 4,
   "metadata": {
    "collapsed": false
   },
   "outputs": [
    {
     "name": "stdout",
     "output_type": "stream",
     "text": [
      "0 : 0.099\n",
      "1 : 0.113\n",
      "2 : 0.100\n",
      "3 : 0.102\n",
      "4 : 0.097\n",
      "5 : 0.090\n",
      "6 : 0.098\n",
      "7 : 0.104\n",
      "8 : 0.098\n",
      "9 : 0.099\n"
     ]
    }
   ],
   "source": [
    "#Check data distribution\n",
    "y_dict = {}\n",
    "\n",
    "for i in y:\n",
    "    if y_dict.get(i) is None:\n",
    "        y_dict[i] = 1\n",
    "    else:\n",
    "        y_dict[i] += 1\n",
    "\n",
    "for key, value in y_dict.items():\n",
    "    y_dict[key] = value / float(len(y))\n",
    "    print '%d : %.3f' %(key, y_dict[key])\n"
   ]
  },
  {
   "cell_type": "code",
   "execution_count": 5,
   "metadata": {
    "collapsed": false
   },
   "outputs": [
    {
     "data": {
      "image/png": "[encoded data removed]",
      "text/plain": [
       "<matplotlib.figure.Figure at 0x7f536b49ab50>"
      ]
     },
     "metadata": {},
     "output_type": "display_data"
    }
   ],
   "source": [
    "#Plot data distribution\n",
    "\n",
    "bins = np.linspace(-0.5,9.5,num = 11)\n",
    "plt.hist(y,bins,alpha=.6,normed = 1,rwidth = .8,label = 'Original ratings')\n",
    "#plt.legend(loc='upper left')\n",
    "plt.xlabel('Label')\n",
    "plt.ylabel('Population ratio')\n",
    "plt.xticks(np.linspace(0.0,9,num = 10))\n",
    "plt.show()"
   ]
  },
  {
   "cell_type": "code",
   "execution_count": 6,
   "metadata": {
    "collapsed": false
   },
   "outputs": [],
   "source": [
    "#Normalization\n",
    "X /= X.max()\n",
    "\n",
    "#Zero mean\n",
    "avg = np.mean(X,axis = 0)\n",
    "X -=  avg\n",
    "\n",
    "#PCA\n",
    "\n",
    "def pca(imox_mtx, k):\n",
    "    imox_sctr = np.dot(imox_mtx.T, imox_mtx)\n",
    "    imox_eigval, imox_eigvec = np.linalg.eig(imox_sctr)\n",
    "    per = np.real(np.sum(imox_eigval[:k])/ np.sum(imox_eigval))\n",
    "    print  'percentage: %.4f'%(per), ', number of features: %d' %(k)\n",
    "    \n",
    "    max_pos = heapq.nlargest(k, xrange(len(imox_eigval)), key=imox_eigval.__getitem__)\n",
    "    transmtx = imox_eigvec[:,max_pos]  \n",
    "    return per, transmtx\n"
   ]
  },
  {
   "cell_type": "code",
   "execution_count": 7,
   "metadata": {
    "collapsed": false
   },
   "outputs": [
    {
     "name": "stdout",
     "output_type": "stream",
     "text": [
      "percentage: 1.0000 , number of features: 784\n",
      "percentage: 1.0000 , number of features: 756\n",
      "percentage: 1.0000 , number of features: 729\n",
      "percentage: 1.0000 , number of features: 702\n",
      "percentage: 1.0000 , number of features: 675\n",
      "percentage: 1.0000 , number of features: 648\n",
      "percentage: 1.0000 , number of features: 621\n",
      "percentage: 0.9999 , number of features: 594\n",
      "percentage: 0.9999 , number of features: 567\n",
      "percentage: 0.9997 , number of features: 540\n",
      "percentage: 0.9994 , number of features: 513\n",
      "percentage: 0.9990 , number of features: 486\n",
      "percentage: 0.9984 , number of features: 459\n",
      "percentage: 0.9974 , number of features: 432\n",
      "percentage: 0.9961 , number of features: 405\n",
      "percentage: 0.9943 , number of features: 378\n",
      "percentage: 0.9919 , number of features: 351\n",
      "percentage: 0.9893 , number of features: 324\n",
      "percentage: 0.9859 , number of features: 297\n",
      "percentage: 0.9817 , number of features: 270\n",
      "percentage: 0.9768 , number of features: 243\n",
      "percentage: 0.9708 , number of features: 216\n",
      "percentage: 0.9633 , number of features: 189\n",
      "percentage: 0.9538 , number of features: 162\n",
      "percentage: 0.9408 , number of features: 135\n",
      "percentage: 0.9222 , number of features: 108\n",
      "percentage: 0.8924 , number of features: 81\n",
      "percentage: 0.8375 , number of features: 54\n",
      "percentage: 0.7095 , number of features: 27\n",
      "percentage: 0.0000 , number of features: 0\n"
     ]
    },
    {
     "data": {
      "image/png": "[encoded data removed]",
      "text/plain": [
       "<matplotlib.figure.Figure at 0x7fbef386f3d0>"
      ]
     },
     "metadata": {},
     "output_type": "display_data"
    }
   ],
   "source": [
    "#plot pca percentage vs features\n",
    "f_num = np.linspace(784,0,30).astype(int)\n",
    "pca_per = [pca(X,i)[0] for i in f_num]\n",
    "\n",
    "plt.plot(f_num, pca_per)\n",
    "plt.xlabel('Number of features')\n",
    "plt.ylabel('Eigenvalue percentage of PCA')\n",
    "plt.show()"
   ]
  },
  {
   "cell_type": "code",
   "execution_count": 7,
   "metadata": {
    "collapsed": false
   },
   "outputs": [
    {
     "ename": "KeyboardInterrupt",
     "evalue": "",
     "output_type": "error",
     "traceback": [
      "\u001b[1;31m---------------------------------------------------------------------------\u001b[0m",
      "\u001b[1;31mKeyboardInterrupt\u001b[0m                         Traceback (most recent call last)",
      "\u001b[1;32m<ipython-input-7-5ec3b0813c9b>\u001b[0m in \u001b[0;36m<module>\u001b[1;34m()\u001b[0m\n\u001b[0;32m      1\u001b[0m \u001b[1;31m#PCA transformation\u001b[0m\u001b[1;33m\u001b[0m\u001b[1;33m\u001b[0m\u001b[0m\n\u001b[1;32m----> 2\u001b[1;33m \u001b[0mper\u001b[0m\u001b[1;33m,\u001b[0m \u001b[0mtransmtx\u001b[0m \u001b[1;33m=\u001b[0m \u001b[0mpca\u001b[0m\u001b[1;33m(\u001b[0m\u001b[0mX\u001b[0m\u001b[1;33m,\u001b[0m\u001b[1;36m392\u001b[0m\u001b[1;33m)\u001b[0m\u001b[1;33m\u001b[0m\u001b[0m\n\u001b[0m\u001b[0;32m      3\u001b[0m \u001b[0mX\u001b[0m \u001b[1;33m=\u001b[0m \u001b[0mnp\u001b[0m\u001b[1;33m.\u001b[0m\u001b[0mdot\u001b[0m\u001b[1;33m(\u001b[0m\u001b[0mtransmtx\u001b[0m\u001b[1;33m.\u001b[0m\u001b[0mT\u001b[0m\u001b[1;33m,\u001b[0m \u001b[0mX\u001b[0m\u001b[1;33m.\u001b[0m\u001b[0mT\u001b[0m\u001b[1;33m)\u001b[0m\u001b[1;33m\u001b[0m\u001b[0m\n\u001b[0;32m      4\u001b[0m \u001b[0mX\u001b[0m \u001b[1;33m=\u001b[0m \u001b[0mX\u001b[0m\u001b[1;33m.\u001b[0m\u001b[0mT\u001b[0m\u001b[1;33m\u001b[0m\u001b[0m\n",
      "\u001b[1;32m<ipython-input-6-c36c928a62d1>\u001b[0m in \u001b[0;36mpca\u001b[1;34m(imox_mtx, k)\u001b[0m\n\u001b[0;32m      9\u001b[0m \u001b[1;33m\u001b[0m\u001b[0m\n\u001b[0;32m     10\u001b[0m \u001b[1;32mdef\u001b[0m \u001b[0mpca\u001b[0m\u001b[1;33m(\u001b[0m\u001b[0mimox_mtx\u001b[0m\u001b[1;33m,\u001b[0m \u001b[0mk\u001b[0m\u001b[1;33m)\u001b[0m\u001b[1;33m:\u001b[0m\u001b[1;33m\u001b[0m\u001b[0m\n\u001b[1;32m---> 11\u001b[1;33m     \u001b[0mimox_sctr\u001b[0m \u001b[1;33m=\u001b[0m \u001b[0mnp\u001b[0m\u001b[1;33m.\u001b[0m\u001b[0mdot\u001b[0m\u001b[1;33m(\u001b[0m\u001b[0mimox_mtx\u001b[0m\u001b[1;33m.\u001b[0m\u001b[0mT\u001b[0m\u001b[1;33m,\u001b[0m \u001b[0mimox_mtx\u001b[0m\u001b[1;33m)\u001b[0m\u001b[1;33m\u001b[0m\u001b[0m\n\u001b[0m\u001b[0;32m     12\u001b[0m     \u001b[0mimox_eigval\u001b[0m\u001b[1;33m,\u001b[0m \u001b[0mimox_eigvec\u001b[0m \u001b[1;33m=\u001b[0m \u001b[0mnp\u001b[0m\u001b[1;33m.\u001b[0m\u001b[0mlinalg\u001b[0m\u001b[1;33m.\u001b[0m\u001b[0meig\u001b[0m\u001b[1;33m(\u001b[0m\u001b[0mimox_sctr\u001b[0m\u001b[1;33m)\u001b[0m\u001b[1;33m\u001b[0m\u001b[0m\n\u001b[0;32m     13\u001b[0m     \u001b[0mper\u001b[0m \u001b[1;33m=\u001b[0m \u001b[0mnp\u001b[0m\u001b[1;33m.\u001b[0m\u001b[0mreal\u001b[0m\u001b[1;33m(\u001b[0m\u001b[0mnp\u001b[0m\u001b[1;33m.\u001b[0m\u001b[0msum\u001b[0m\u001b[1;33m(\u001b[0m\u001b[0mimox_eigval\u001b[0m\u001b[1;33m[\u001b[0m\u001b[1;33m:\u001b[0m\u001b[0mk\u001b[0m\u001b[1;33m]\u001b[0m\u001b[1;33m)\u001b[0m\u001b[1;33m/\u001b[0m \u001b[0mnp\u001b[0m\u001b[1;33m.\u001b[0m\u001b[0msum\u001b[0m\u001b[1;33m(\u001b[0m\u001b[0mimox_eigval\u001b[0m\u001b[1;33m)\u001b[0m\u001b[1;33m)\u001b[0m\u001b[1;33m\u001b[0m\u001b[0m\n",
      "\u001b[1;31mKeyboardInterrupt\u001b[0m: "
     ]
    }
   ],
   "source": [
    "#PCA transformation\n",
    "per, transmtx = pca(X,392)\n",
    "X = np.dot(transmtx.T, X.T)\n",
    "X = X.T"
   ]
  },
  {
   "cell_type": "code",
   "execution_count": 12,
   "metadata": {
    "collapsed": false
   },
   "outputs": [
    {
     "name": "stdout",
     "output_type": "stream",
     "text": [
      " (35000, 784) <type 'numpy.ndarray'>\n"
     ]
    }
   ],
   "source": [
    "#Partition into original train and test to compare with teammates. \n",
    "X_train0, X_test0 = X[:60000], X[60000:]\n",
    "y_train0, y_test0 = y[:60000], y[60000:]\n",
    "\n",
    "#Randomlize data since it's put in order from 0 to 9\n",
    "loc = range(70000)\n",
    "np.random.shuffle(loc)\n",
    "X = X[loc,:]\n",
    "y =  y[loc]\n",
    "\n",
    "#Partition into two sets / 2-fold CV\n",
    "parti = X.shape[0]/2\n",
    "X_train, X_test = X[:parti], X[parti:]\n",
    "y_train, y_test = y[:parti], y[parti:]\n",
    "#print np.shape(X_train), type(y_train)"
   ]
  },
  {
   "cell_type": "code",
   "execution_count": 10,
   "metadata": {
    "collapsed": false
   },
   "outputs": [],
   "source": [
    "class neural_net_two_layer():\n",
    "    \n",
    "    def __init__(self, X_train, Y_train, step_size = 0.1, reg = 0.001, h_size = 10, niter = 10000):\n",
    "        \n",
    "        self.X = X_train\n",
    "        self.Y = Y_train\n",
    "        \n",
    "        self.step_size = step_size\n",
    "        self.reg = reg\n",
    "        self.h = h_size\n",
    "        self.niter = niter\n",
    "        \n",
    "        self.ndata = np.shape(self.X)[0]\n",
    "        self.ndim = np.shape(self.X)[1]\n",
    "        self.nclass = len(np.unique(self.Y))\n",
    "   \n",
    "        self.wt_ini = 0.02\n",
    "        \n",
    "        self.wt = self.wt_ini * np.random.randn(self.ndim, self.h)\n",
    "        self.b = np.zeros(self.h)\n",
    "        \n",
    "        self.wt2 = self.wt_ini * np.random.randn(self.h, self.nclass)\n",
    "        self.b2 = np.zeros(self.nclass)\n",
    "  \n",
    "        \n",
    "    def model(self):\n",
    "        \n",
    "        wt = self.wt\n",
    "        b = self.b\n",
    "        wt2 = self.wt2\n",
    "        b2 = self.b2\n",
    "        loss = 3\n",
    "        \n",
    "        for i in range(self.niter):\n",
    " \n",
    "            hidden_layer = np.maximum(0, np.dot(self.X, wt) + b)\n",
    " \n",
    "            scores = np.dot(hidden_layer, wt2) + b2\n",
    "            exp_scores = np.exp(scores)         \n",
    "            probs = exp_scores / np.sum(exp_scores, axis = 1, keepdims = True)\n",
    "            corect_logprobs = -np.log(probs[range(self.ndata),self.Y])\n",
    "  \n",
    "            data_loss = np.sum(corect_logprobs)/self.ndata\n",
    "\n",
    "            reg_loss = .5 * self.reg * np.sum((wt*wt)) + .5 *self.reg*np.sum((wt2*wt2))\n",
    "            loss_new = data_loss + reg_loss\n",
    "            \n",
    "            if (i%100 == 0 or i == self.niter-1):\n",
    "                print 'iteration: %d, loss: %f' %(i, loss_new)\n",
    "                #print np.sum(wt2), np.sum(b2)\n",
    "            \"\"\"    \n",
    "            if (abs(loss-loss_new)/loss < 0.001 and i > 1):\n",
    "                print 'break condition match: ', (loss-loss_new)/loss, loss\n",
    "                break\n",
    "            \"\"\"\n",
    "            loss = loss_new\n",
    "            \n",
    "            grads = {} \n",
    "            dscores = probs\n",
    "            dscores[range(self.ndata),self.Y] -= 1\n",
    "            dscores /= self.ndata         \n",
    " \n",
    "            grads['wt2'] = np.dot(hidden_layer.T, dscores)\n",
    "            grads['b2'] = np.sum(dscores, axis = 0)\n",
    "            dhidden = np.dot(dscores, wt2.T)\n",
    "            dhidden[hidden_layer <=0] = 0\n",
    "            grads['wt'] = np.dot(self.X.T, dhidden)\n",
    "            grads['b'] = np.sum(dhidden, axis = 0)\n",
    "\n",
    "            grads['wt2'] += self.reg * wt2\n",
    "            grads['wt'] += self.reg * wt\n",
    "\n",
    "            wt2 = wt2 - self.step_size * grads['wt2']\n",
    "            wt = wt - self.step_size * grads['wt']\n",
    "            b2 = b2 - self.step_size * grads['b2']\n",
    "            b =  b - self.step_size * grads['b']\n",
    "        \n",
    "        self.wt2, self.wt = wt2, wt\n",
    "        self.b2, self.b = b2, b\n",
    "\n",
    "        return loss\n",
    "        \n",
    "    def predict(self, X_test):\n",
    "            \n",
    "        wt = self.wt\n",
    "        b = self.b\n",
    "        wt2 = self.wt2\n",
    "        b2 = self.b2\n",
    "        \n",
    "        hidden_layer = np.maximum(0, np.dot(X_test,wt) + b)\n",
    "        scores = np.dot(hidden_layer, wt2) + b2\n",
    "        exp_scores = np.exp(scores)\n",
    "        probs = exp_scores / np.sum(exp_scores, axis = 1, keepdims = True)\n",
    "        Y_pred = probs.argmax(axis = 1)\n",
    "        \n",
    "        return Y_pred\n",
    "        \n",
    "        \n",
    "    def accuracy(self, Y_testset, Y_pred):\n",
    "        \n",
    "        accu_array = [1 if Y_testset[i:i+1]==Y_pred[i:i+1] else 0 for i in range(len(Y_testset)) ]\n",
    "        #print accu_array\n",
    "        #print Y_testset, Y_pred\n",
    "        accu = sum(accu_array)/np.double(len(Y_testset))\n",
    "        #print 'accuracy: %.2f' % (accu)*100, '%'\n",
    "        return accu\n"
   ]
  },
  {
   "cell_type": "code",
   "execution_count": 11,
   "metadata": {
    "collapsed": false,
    "scrolled": true
   },
   "outputs": [
    {
     "name": "stdout",
     "output_type": "stream",
     "text": [
      "iteration: 0, loss: 2.303301\n",
      "iteration: 100, loss: 1.847379\n",
      "iteration: 200, loss: 0.887796\n",
      "iteration: 300, loss: 0.616349\n",
      "iteration: 400, loss: 0.493352\n",
      "iteration: 500, loss: 0.428420\n",
      "iteration: 600, loss: 0.393172\n",
      "iteration: 700, loss: 0.370923\n",
      "iteration: 800, loss: 0.355433\n",
      "iteration: 900, loss: 0.343741\n",
      "iteration: 1000, loss: 0.334567\n",
      "iteration: 1100, loss: 0.327108\n",
      "iteration: 1200, loss: 0.320842\n",
      "iteration: 1300, loss: 0.315464\n",
      "iteration: 1400, loss: 0.310730\n",
      "iteration: 1500, loss: 0.306486\n",
      "iteration: 1600, loss: 0.302654\n",
      "iteration: 1700, loss: 0.299186\n",
      "iteration: 1800, loss: 0.296020\n",
      "iteration: 1900, loss: 0.293113\n",
      "iteration: 2000, loss: 0.290452\n",
      "iteration: 2100, loss: 0.287999\n",
      "iteration: 2200, loss: 0.285731\n",
      "iteration: 2300, loss: 0.283626\n",
      "iteration: 2400, loss: 0.281665\n",
      "iteration: 2500, loss: 0.279845\n",
      "iteration: 2600, loss: 0.278146\n",
      "iteration: 2700, loss: 0.276543\n",
      "iteration: 2800, loss: 0.275035\n",
      "iteration: 2900, loss: 0.273615\n",
      "iteration: 3000, loss: 0.272290\n",
      "iteration: 3100, loss: 0.271029\n",
      "iteration: 3200, loss: 0.269841\n",
      "iteration: 3300, loss: 0.268705\n",
      "iteration: 3400, loss: 0.267624\n",
      "iteration: 3500, loss: 0.266593\n",
      "iteration: 3600, loss: 0.265615\n",
      "iteration: 3700, loss: 0.264683\n",
      "iteration: 3800, loss: 0.263795\n",
      "iteration: 3900, loss: 0.262954\n",
      "iteration: 4000, loss: 0.262147\n",
      "iteration: 4100, loss: 0.261378\n",
      "iteration: 4200, loss: 0.260647\n",
      "iteration: 4300, loss: 0.259946\n",
      "iteration: 4400, loss: 0.259285\n",
      "iteration: 4500, loss: 0.258652\n",
      "iteration: 4600, loss: 0.258046\n",
      "iteration: 4700, loss: 0.257466\n",
      "iteration: 4800, loss: 0.256908\n",
      "iteration: 4900, loss: 0.256379\n",
      "iteration: 5000, loss: 0.255872\n",
      "iteration: 5100, loss: 0.255384\n",
      "iteration: 5200, loss: 0.254910\n",
      "iteration: 5300, loss: 0.254455\n",
      "iteration: 5400, loss: 0.254024\n",
      "iteration: 5500, loss: 0.253611\n",
      "iteration: 5600, loss: 0.253208\n",
      "iteration: 5700, loss: 0.252818\n",
      "iteration: 5800, loss: 0.252441\n",
      "iteration: 5900, loss: 0.252074\n",
      "iteration: 6000, loss: 0.251712\n",
      "iteration: 6100, loss: 0.251363\n",
      "iteration: 6200, loss: 0.251026\n",
      "iteration: 6300, loss: 0.250699\n",
      "iteration: 6400, loss: 0.250378\n",
      "iteration: 6500, loss: 0.250061\n",
      "iteration: 6600, loss: 0.249758\n",
      "iteration: 6700, loss: 0.249463\n",
      "iteration: 6800, loss: 0.249176\n",
      "iteration: 6900, loss: 0.248899\n",
      "iteration: 7000, loss: 0.248632\n",
      "iteration: 7100, loss: 0.248369\n",
      "iteration: 7200, loss: 0.248109\n",
      "iteration: 7300, loss: 0.247856\n",
      "iteration: 7400, loss: 0.247605\n",
      "iteration: 7500, loss: 0.247358\n",
      "iteration: 7600, loss: 0.247120\n",
      "iteration: 7700, loss: 0.246891\n",
      "iteration: 7800, loss: 0.246670\n",
      "iteration: 7900, loss: 0.246456\n",
      "iteration: 8000, loss: 0.246250\n",
      "iteration: 8100, loss: 0.246050\n",
      "iteration: 8200, loss: 0.245853\n",
      "iteration: 8300, loss: 0.245655\n",
      "iteration: 8400, loss: 0.245462\n",
      "iteration: 8500, loss: 0.245272\n",
      "iteration: 8600, loss: 0.245086\n",
      "iteration: 8700, loss: 0.244902\n",
      "iteration: 8800, loss: 0.244719\n",
      "iteration: 8900, loss: 0.244540\n",
      "iteration: 9000, loss: 0.244361\n",
      "iteration: 9100, loss: 0.244188\n",
      "iteration: 9200, loss: 0.244017\n",
      "iteration: 9300, loss: 0.243850\n",
      "iteration: 9400, loss: 0.243687\n",
      "iteration: 9500, loss: 0.243525\n",
      "iteration: 9600, loss: 0.243366\n",
      "iteration: 9700, loss: 0.243207\n",
      "iteration: 9800, loss: 0.243056\n",
      "iteration: 9900, loss: 0.242909\n",
      "iteration: 9999, loss: 0.242769\n",
      "1796.45591211\n",
      "0.933657142857\n"
     ]
    }
   ],
   "source": [
    "# accu1: use train as train, test as tet\n",
    "iter_times = 5000\n",
    "nntl = neural_net_two_layer(X_train, y_train, h_size = 10, reg = 0.001,niter = iter_times)\n",
    "import time as ti\n",
    "st = ti.time()\n",
    "nntl.model()\n",
    "print ti.time()-st\n",
    "\n",
    "y_tepd = nntl.predict(X_test[:,:])\n",
    "acc1 = nntl.accuracy(y_test[0:],y_tepd)\n",
    "print acc1"
   ]
  },
  {
   "cell_type": "code",
   "execution_count": 12,
   "metadata": {
    "collapsed": false
   },
   "outputs": [
    {
     "name": "stdout",
     "output_type": "stream",
     "text": [
      "iteration: 0, loss: 2.303563\n",
      "iteration: 100, loss: 1.695314\n",
      "iteration: 200, loss: 0.916458\n",
      "iteration: 300, loss: 0.583833\n",
      "iteration: 400, loss: 0.460877\n"
     ]
    },
    {
     "ename": "KeyboardInterrupt",
     "evalue": "",
     "output_type": "error",
     "traceback": [
      "\u001b[1;31m---------------------------------------------------------------------------\u001b[0m",
      "\u001b[1;31mKeyboardInterrupt\u001b[0m                         Traceback (most recent call last)",
      "\u001b[1;32m<ipython-input-12-023857138fbf>\u001b[0m in \u001b[0;36m<module>\u001b[1;34m()\u001b[0m\n\u001b[0;32m      3\u001b[0m \u001b[1;32mimport\u001b[0m \u001b[0mtime\u001b[0m \u001b[1;32mas\u001b[0m \u001b[0mti\u001b[0m\u001b[1;33m\u001b[0m\u001b[0m\n\u001b[0;32m      4\u001b[0m \u001b[0mst\u001b[0m \u001b[1;33m=\u001b[0m \u001b[0mti\u001b[0m\u001b[1;33m.\u001b[0m\u001b[0mtime\u001b[0m\u001b[1;33m(\u001b[0m\u001b[1;33m)\u001b[0m\u001b[1;33m\u001b[0m\u001b[0m\n\u001b[1;32m----> 5\u001b[1;33m \u001b[0mnntl\u001b[0m\u001b[1;33m.\u001b[0m\u001b[0mmodel\u001b[0m\u001b[1;33m(\u001b[0m\u001b[1;33m)\u001b[0m\u001b[1;33m\u001b[0m\u001b[0m\n\u001b[0m\u001b[0;32m      6\u001b[0m \u001b[1;32mprint\u001b[0m \u001b[0mti\u001b[0m\u001b[1;33m.\u001b[0m\u001b[0mtime\u001b[0m\u001b[1;33m(\u001b[0m\u001b[1;33m)\u001b[0m\u001b[1;33m-\u001b[0m\u001b[0mst\u001b[0m\u001b[1;33m\u001b[0m\u001b[0m\n\u001b[0;32m      7\u001b[0m \u001b[1;33m\u001b[0m\u001b[0m\n",
      "\u001b[1;32m<ipython-input-10-b1f86fdcc62e>\u001b[0m in \u001b[0;36mmodel\u001b[1;34m(self)\u001b[0m\n\u001b[0;32m     65\u001b[0m             \u001b[0mdhidden\u001b[0m \u001b[1;33m=\u001b[0m \u001b[0mnp\u001b[0m\u001b[1;33m.\u001b[0m\u001b[0mdot\u001b[0m\u001b[1;33m(\u001b[0m\u001b[0mdscores\u001b[0m\u001b[1;33m,\u001b[0m \u001b[0mwt2\u001b[0m\u001b[1;33m.\u001b[0m\u001b[0mT\u001b[0m\u001b[1;33m)\u001b[0m\u001b[1;33m\u001b[0m\u001b[0m\n\u001b[0;32m     66\u001b[0m             \u001b[0mdhidden\u001b[0m\u001b[1;33m[\u001b[0m\u001b[0mhidden_layer\u001b[0m \u001b[1;33m<=\u001b[0m\u001b[1;36m0\u001b[0m\u001b[1;33m]\u001b[0m \u001b[1;33m=\u001b[0m \u001b[1;36m0\u001b[0m\u001b[1;33m\u001b[0m\u001b[0m\n\u001b[1;32m---> 67\u001b[1;33m             \u001b[0mgrads\u001b[0m\u001b[1;33m[\u001b[0m\u001b[1;34m'wt'\u001b[0m\u001b[1;33m]\u001b[0m \u001b[1;33m=\u001b[0m \u001b[0mnp\u001b[0m\u001b[1;33m.\u001b[0m\u001b[0mdot\u001b[0m\u001b[1;33m(\u001b[0m\u001b[0mself\u001b[0m\u001b[1;33m.\u001b[0m\u001b[0mX\u001b[0m\u001b[1;33m.\u001b[0m\u001b[0mT\u001b[0m\u001b[1;33m,\u001b[0m \u001b[0mdhidden\u001b[0m\u001b[1;33m)\u001b[0m\u001b[1;33m\u001b[0m\u001b[0m\n\u001b[0m\u001b[0;32m     68\u001b[0m             \u001b[0mgrads\u001b[0m\u001b[1;33m[\u001b[0m\u001b[1;34m'b'\u001b[0m\u001b[1;33m]\u001b[0m \u001b[1;33m=\u001b[0m \u001b[0mnp\u001b[0m\u001b[1;33m.\u001b[0m\u001b[0msum\u001b[0m\u001b[1;33m(\u001b[0m\u001b[0mdhidden\u001b[0m\u001b[1;33m,\u001b[0m \u001b[0maxis\u001b[0m \u001b[1;33m=\u001b[0m \u001b[1;36m0\u001b[0m\u001b[1;33m)\u001b[0m\u001b[1;33m\u001b[0m\u001b[0m\n\u001b[0;32m     69\u001b[0m \u001b[1;33m\u001b[0m\u001b[0m\n",
      "\u001b[1;31mKeyboardInterrupt\u001b[0m: "
     ]
    }
   ],
   "source": [
    "# accu2: use train as test, test as train\n",
    "nntl = neural_net_two_layer(X_test, y_test, niter = 10000, h_size = 10, reg = 0.001)\n",
    "import time as ti\n",
    "st = ti.time()\n",
    "nntl.model()\n",
    "print ti.time()-st\n",
    "\n",
    "y_trpd = nntl.predict(X_train[:,:])\n",
    "acc2 = nntl.accuracy(y_train[0:],y_trpd)\n",
    "print acc2\n"
   ]
  },
  {
   "cell_type": "code",
   "execution_count": null,
   "metadata": {
    "collapsed": false
   },
   "outputs": [],
   "source": [
    "# 2-fold average accuracy\n",
    "print 'average accuracy: %.4f' %(100*(acc1+acc2)/2.), '%'"
   ]
  },
  {
   "cell_type": "code",
   "execution_count": null,
   "metadata": {
    "collapsed": false
   },
   "outputs": [],
   "source": [
    "xh = [2,5,10,20]\n",
    "yh = [70.29,88.55,93.33,95.32]\n",
    "plt.plot(xh,yh)\n",
    "plt.plot(xh,yh,'o')\n",
    "plt.xlabel('Hidden layer size')\n",
    "plt.ylabel('Accuracy')\n",
    "plt.show()"
   ]
  },
  {
   "cell_type": "code",
   "execution_count": null,
   "metadata": {
    "collapsed": false,
    "scrolled": true
   },
   "outputs": [],
   "source": [
    "xh = [0.0001,0.001,0.01,0.1]\n",
    "yh = [93.37,93.33,91.87,85.04]\n",
    "plt.plot(xh,yh,'o')"
   ]
  },
  {
   "cell_type": "code",
   "execution_count": null,
   "metadata": {
    "collapsed": false
   },
   "outputs": [],
   "source": [
    "#Use last 10000 as test\n",
    "\n",
    "nntl = neural_net_two_layer(X_train0, y_train0, h_size = 20, reg = 0.001)\n",
    "import time as ti\n",
    "st = ti.time()\n",
    "nntl.model()\n",
    "print ti.time()-st\n",
    "\n",
    "y_tepd0 = nntl.predict(X_test0[:,:])\n",
    "acc = nntl.accuracy(y_test0[0:],y_tepd0)\n",
    "print acc"
   ]
  },
  {
   "cell_type": "code",
   "execution_count": null,
   "metadata": {
    "collapsed": false
   },
   "outputs": [],
   "source": []
  },
  {
   "cell_type": "code",
   "execution_count": null,
   "metadata": {
    "collapsed": true
   },
   "outputs": [],
   "source": []
  }
 ],
 "metadata": {
  "kernelspec": {
   "display_name": "Python 2",
   "language": "python",
   "name": "python2"
  },
  "language_info": {
   "codemirror_mode": {
    "name": "ipython",
    "version": 2
   },
   "file_extension": ".py",
   "mimetype": "text/x-python",
   "name": "python",
   "nbconvert_exporter": "python",
   "pygments_lexer": "ipython2",
   "version": "2.7.12"
  }
 },
 "nbformat": 4,
 "nbformat_minor": 0
}
